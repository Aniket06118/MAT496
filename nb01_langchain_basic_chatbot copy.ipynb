{
 "cells": [
  {
   "cell_type": "code",
   "execution_count": 1,
   "id": "682c4c87",
   "metadata": {},
   "outputs": [
    {
     "data": {
      "text/plain": [
       "True"
      ]
     },
     "execution_count": 1,
     "metadata": {},
     "output_type": "execute_result"
    }
   ],
   "source": [
    "from dotenv import load_dotenv\n",
    "load_dotenv()"
   ]
  },
  {
   "cell_type": "code",
   "execution_count": 2,
   "id": "afe84af3",
   "metadata": {},
   "outputs": [],
   "source": [
    "#pip ins!tall -qU \"langchain[groq]\""
   ]
  },
  {
   "cell_type": "code",
   "execution_count": 3,
   "id": "a0e461e5",
   "metadata": {},
   "outputs": [],
   "source": [
    "from langchain.chat_models import init_chat_model\n",
    "\n",
    "model = init_chat_model(\"llama3-8b-8192\", model_provider=\"groq\")"
   ]
  },
  {
   "cell_type": "code",
   "execution_count": 4,
   "id": "a6f93f75",
   "metadata": {},
   "outputs": [
    {
     "data": {
      "text/plain": [
       "AIMessage(content=\"Not much! It's great to chat with you. Is there something on your mind that you'd like to talk about, or are you just looking for some friendly conversation? I'm here to listen and help if I can.\", additional_kwargs={}, response_metadata={'token_usage': {'completion_tokens': 47, 'prompt_tokens': 13, 'total_tokens': 60, 'completion_time': 0.03396081, 'prompt_time': 0.002758735, 'queue_time': 0.047626285, 'total_time': 0.036719545}, 'model_name': 'llama3-8b-8192', 'system_fingerprint': 'fp_4b5fbf0ced', 'service_tier': 'on_demand', 'finish_reason': 'stop', 'logprobs': None}, id='run--8fa2f6e5-0958-4296-a37b-e771964534f8-0', usage_metadata={'input_tokens': 13, 'output_tokens': 47, 'total_tokens': 60})"
      ]
     },
     "execution_count": 4,
     "metadata": {},
     "output_type": "execute_result"
    }
   ],
   "source": [
    "# A simple model call\n",
    "\n",
    "model.invoke(\"Whats up?\")"
   ]
  },
  {
   "cell_type": "code",
   "execution_count": 5,
   "id": "ffcd459f",
   "metadata": {},
   "outputs": [
    {
     "data": {
      "text/plain": [
       "AIMessage(content='Here is a simple Python program to add 2 numbers:\\n```\\n# Get the two numbers to add from the user\\nnum1 = int(input(\"Enter the first number: \"))\\nnum2 = int(input(\"Enter the second number: \"))\\n\\n# Add the two numbers\\nresult = num1 + num2\\n\\n# Print the result\\nprint(\"The result is:\", result)\\n```\\nLet me explain what this code does:\\n\\n1. The first two lines use the `input` function to get two numbers from the user. The `int` function is used to convert the user\\'s input into integers.\\n2. The third line adds the two numbers together using the `+` operator.\\n3. The fourth line prints the result using the `print` function.\\n\\nYou can save this code to a file (e.g. `add_numbers.py`) and run it using Python (e.g. `python add_numbers.py`) to try it out!\\n\\nExample output:\\n```\\nEnter the first number: 3\\nEnter the second number: 5\\nThe result is: 8\\n```\\nI hope this helps! Let me know if you have any questions.', additional_kwargs={}, response_metadata={'token_usage': {'completion_tokens': 237, 'prompt_tokens': 19, 'total_tokens': 256, 'completion_time': 0.171679202, 'prompt_time': 0.00727034, 'queue_time': 0.044951089, 'total_time': 0.178949542}, 'model_name': 'llama3-8b-8192', 'system_fingerprint': 'fp_4b5fbf0ced', 'service_tier': 'on_demand', 'finish_reason': 'stop', 'logprobs': None}, id='run--a556e073-e683-4d3b-9bb2-270504205fe3-0', usage_metadata={'input_tokens': 19, 'output_tokens': 237, 'total_tokens': 256})"
      ]
     },
     "execution_count": 5,
     "metadata": {},
     "output_type": "execute_result"
    }
   ],
   "source": [
    "model.invoke('write a python program to add 2 numbers')"
   ]
  },
  {
   "cell_type": "markdown",
   "id": "42416cbd",
   "metadata": {},
   "source": [
    "[Exercise] Play along. Give bigger and bigger prompts"
   ]
  },
  {
   "cell_type": "code",
   "execution_count": 6,
   "id": "da2738af",
   "metadata": {},
   "outputs": [
    {
     "data": {
      "text/plain": [
       "AIMessage(content=\"I am LLaMA, an AI assistant developed by Meta AI that can understand and respond to human input in a conversational manner. I'm not a human, but a computer program designed to simulate conversation, answer questions, and even generate text based on the input I receive.\\n\\nI'm a large language model, which means I've been trained on a massive dataset of text from various sources, including books, articles, and websites. This training enables me to understand and respond to a wide range of topics and questions.\\n\\nI'm here to help answer your questions, provide information, and even engage in conversation. I can assist with tasks such as:\\n\\n1. Answering questions on various topics, including science, history, entertainment, and more.\\n2. Providing definitions and explanations for words and phrases.\\n3. Generating text based on a prompt or topic.\\n4. Translating text from one language to another.\\n5. Summarizing long pieces of text into shorter, more digestible chunks.\\n6. Offering suggestions and ideas on a particular topic.\\n\\nFeel free to ask me anything, and I'll do my best to help!\", additional_kwargs={}, response_metadata={'token_usage': {'completion_tokens': 228, 'prompt_tokens': 14, 'total_tokens': 242, 'completion_time': 0.164866945, 'prompt_time': 0.002727365, 'queue_time': 0.044831204, 'total_time': 0.16759431}, 'model_name': 'llama3-8b-8192', 'system_fingerprint': 'fp_4b5fbf0ced', 'service_tier': 'on_demand', 'finish_reason': 'stop', 'logprobs': None}, id='run--c2566132-b36f-49cb-8288-70e62a3a3650-0', usage_metadata={'input_tokens': 14, 'output_tokens': 228, 'total_tokens': 242})"
      ]
     },
     "execution_count": 6,
     "metadata": {},
     "output_type": "execute_result"
    }
   ],
   "source": [
    "model.invoke(\"Who are you?\")"
   ]
  },
  {
   "cell_type": "code",
   "execution_count": 7,
   "id": "a7f4578d",
   "metadata": {},
   "outputs": [
    {
     "data": {
      "text/plain": [
       "AIMessage(content='Here is a simple Python code that can multiply two matrices of arbitrary but compatible order. The code uses NumPy library for matrix operations and throws an exception if the matrices are not compatible for multiplication.\\n\\n```Python\\nimport numpy as np\\n\\ndef matrix_multiply(A, B):\\n    # Check if the matrices are compatible for multiplication\\n    if A.shape[1] != B.shape[0]:\\n        raise ValueError(\"Matrices are not compatible for multiplication\")\\n\\n    # Multiply the matrices\\n    C = np.dot(A, B)\\n\\n    return C\\n\\n# Example usage:\\nA = np.array([[1, 2, 3], [4, 5, 6]])\\nB = np.array([[7, 8], [9, 10], [11, 12]])\\n\\nC = matrix_multiply(A, B)\\n\\nprint(C)\\n```\\n\\nIn this code, the `matrix_multiply` function takes two matrices `A` and `B` as input and returns their product `C`. Before multiplying the matrices, the function checks if the number of columns in `A` is equal to the number of rows in `B`. This is necessary for matrix multiplication to be valid. If the matrices are not compatible, the function raises a `ValueError` with a message indicating that the matrices are not compatible for multiplication.\\n\\nThe example usage at the end of the code demonstrates how to use the `matrix_multiply` function to multiply two matrices `A` and `B` and store their product in `C`.', additional_kwargs={}, response_metadata={'token_usage': {'completion_tokens': 304, 'prompt_tokens': 43, 'total_tokens': 347, 'completion_time': 0.220291831, 'prompt_time': 0.008101826, 'queue_time': 0.044105124, 'total_time': 0.228393657}, 'model_name': 'llama3-8b-8192', 'system_fingerprint': 'fp_4b5fbf0ced', 'service_tier': 'on_demand', 'finish_reason': 'stop', 'logprobs': None}, id='run--72aec633-fdf4-4aa2-8b1c-c8fe00ed10a6-0', usage_metadata={'input_tokens': 43, 'output_tokens': 304, 'total_tokens': 347})"
      ]
     },
     "execution_count": 7,
     "metadata": {},
     "output_type": "execute_result"
    }
   ],
   "source": [
    "response = model.invoke(\"\"\" Write a python code which can multiply two matrix of arbitrary but compatible order. The code should throw exception if the matrix dimentsions are not compatible for multiplication             \n",
    "             \"\"\")\n",
    "\n",
    "response"
   ]
  },
  {
   "cell_type": "code",
   "execution_count": 8,
   "id": "17c8c30d",
   "metadata": {},
   "outputs": [
    {
     "name": "stdout",
     "output_type": "stream",
     "text": [
      "Here is a simple Python code that can multiply two matrices of arbitrary but compatible order. The code uses NumPy library for matrix operations and throws an exception if the matrices are not compatible for multiplication.\n",
      "\n",
      "```Python\n",
      "import numpy as np\n",
      "\n",
      "def matrix_multiply(A, B):\n",
      "    # Check if the matrices are compatible for multiplication\n",
      "    if A.shape[1] != B.shape[0]:\n",
      "        raise ValueError(\"Matrices are not compatible for multiplication\")\n",
      "\n",
      "    # Multiply the matrices\n",
      "    C = np.dot(A, B)\n",
      "\n",
      "    return C\n",
      "\n",
      "# Example usage:\n",
      "A = np.array([[1, 2, 3], [4, 5, 6]])\n",
      "B = np.array([[7, 8], [9, 10], [11, 12]])\n",
      "\n",
      "C = matrix_multiply(A, B)\n",
      "\n",
      "print(C)\n",
      "```\n",
      "\n",
      "In this code, the `matrix_multiply` function takes two matrices `A` and `B` as input and returns their product `C`. Before multiplying the matrices, the function checks if the number of columns in `A` is equal to the number of rows in `B`. This is necessary for matrix multiplication to be valid. If the matrices are not compatible, the function raises a `ValueError` with a message indicating that the matrices are not compatible for multiplication.\n",
      "\n",
      "The example usage at the end of the code demonstrates how to use the `matrix_multiply` function to multiply two matrices `A` and `B` and store their product in `C`.\n"
     ]
    }
   ],
   "source": [
    "print(response.content)"
   ]
  },
  {
   "cell_type": "code",
   "execution_count": 9,
   "id": "8b215da3",
   "metadata": {},
   "outputs": [
    {
     "data": {
      "text/plain": [
       "AIMessage(content='নমস্কার! (Namoskar!)', additional_kwargs={}, response_metadata={'token_usage': {'completion_tokens': 16, 'prompt_tokens': 25, 'total_tokens': 41, 'completion_time': 0.011620928, 'prompt_time': 0.003404293, 'queue_time': 0.045067657, 'total_time': 0.015025221}, 'model_name': 'llama3-8b-8192', 'system_fingerprint': 'fp_4b5fbf0ced', 'service_tier': 'on_demand', 'finish_reason': 'stop', 'logprobs': None}, id='run--4bbacf53-96bd-49f4-991f-78cdcf1ca67d-0', usage_metadata={'input_tokens': 25, 'output_tokens': 16, 'total_tokens': 41})"
      ]
     },
     "execution_count": 9,
     "metadata": {},
     "output_type": "execute_result"
    }
   ],
   "source": [
    "# invoking to build a converstation style call\n",
    "\n",
    "from langchain_core.messages import HumanMessage, SystemMessage\n",
    "\n",
    "messages = [\n",
    "    SystemMessage(\"Translate the following from English into Bengali\"), # try punjabi, or any other Indian language\n",
    "    HumanMessage(\"hi!\"),\n",
    "]\n",
    "\n",
    "model.invoke(messages)"
   ]
  },
  {
   "cell_type": "code",
   "execution_count": 10,
   "id": "9efe5fb2",
   "metadata": {},
   "outputs": [],
   "source": [
    "messages = [\n",
    "    SystemMessage(\"Generate python code for given tasks\"),\n",
    "    HumanMessage(\"Find max of given n numbers\"),\n",
    "]\n",
    "\n",
    "response = model.invoke(messages)\n",
    "\n"
   ]
  },
  {
   "cell_type": "code",
   "execution_count": 11,
   "id": "17d70ec4",
   "metadata": {},
   "outputs": [
    {
     "name": "stdout",
     "output_type": "stream",
     "text": [
      "Here is a Python code to find the maximum of a given n numbers:\n",
      "\n",
      "```python\n",
      "def find_max(n, numbers):\n",
      "    return max(numbers)\n",
      "\n",
      "n = int(input(\"Enter the number of elements: \"))\n",
      "numbers = list(map(int, input(\"Enter the numbers separated by space: \").split()))\n",
      "print(\"Maximum number is:\", find_max(n, numbers))\n",
      "```\n",
      "\n",
      "You can run this code, enter the number of elements and the numbers separated by space, and it will print the maximum number.\n",
      "\n",
      "For example, if you enter `3` and `1 2 3`, it will print `3`.\n"
     ]
    }
   ],
   "source": [
    "print(response.content)"
   ]
  },
  {
   "cell_type": "code",
   "execution_count": 12,
   "id": "d36098aa",
   "metadata": {},
   "outputs": [
    {
     "name": "stdout",
     "output_type": "stream",
     "text": [
      "Here is a Python code to find the maximum of a given n numbers:\n",
      "\n",
      "```python\n",
      "def find_max(n, numbers):\n",
      "    return max(numbers)\n",
      "\n",
      "n = int(input(\"Enter the number of elements: \"))\n",
      "numbers = list(map(int, input(\"Enter the numbers separated by space: \").split()))\n",
      "print(\"Maximum number is:\", find_max(n, numbers))\n",
      "```\n",
      "\n",
      "You can run this code, enter the number of elements and the numbers separated by space, and it will print the maximum number.\n",
      "\n",
      "For example, if you enter `3` and `1 2 3`, it will print `3`.\n"
     ]
    }
   ],
   "source": [
    "print(response.content)"
   ]
  },
  {
   "cell_type": "code",
   "execution_count": 13,
   "id": "39caa649",
   "metadata": {},
   "outputs": [
    {
     "name": "stdout",
     "output_type": "stream",
     "text": [
      "|What| a| profound| and| complex| question|!| \"|What| is| life|?\"| is| a| question| that| has| puzzled| philosophers|,| scientists|,| and| thinkers| for| centuries|.| While| there| is| no| definitive| answer|,| here|'s| a| comprehensive| overview| of| the| concept| of| life|:\n",
      "\n",
      "|**|Bi|ological| perspective|:|**\n",
      "|From| a| biological| standpoint|,| life| is| often| defined| as| the| characteristic| of| organisms| that| maintain| home|ost|asis|,| are| composed| of| cells|,| and| reproduce|.| This| definition| encompasses| the| fundamental| characteristics| of| living| organisms|,| such| as|:\n",
      "\n",
      "|1|.| **|Organization|**:| Living| beings| are| composed| of| cells|,| tissues|,| organs|,| and| systems| that| work| together| to| maintain| the| organism|'s| functions|.\n",
      "|2|.| **|Met|abol|ism|**:| Living| organisms| carry| out| chemical| reactions| to| sustain| themselves|,| including| the| breakdown| and| synthesis| of| molecules|.\n",
      "|3|.| **|Home|ost|asis|**:| Living| beings| maintain| a| stable| internal| environment| despite| changes| in| the| external| environment|.\n",
      "|4|.| **|G|rowth| and| Development|**:| Living| organisms| grow|,| develop|,| and| adapt| throughout| their| life| cycles|.\n",
      "|5|.| **|Re|production|**:| Living| beings| reproduce|,| ensuring| the| continuation| of| their| species|.\n",
      "|6|.| **|Response| to| Stim|uli|**:| Living| organisms| respond| to| their| environment|,| including| stimuli| such| as| light|,| sound|,| and| touch|.\n",
      "\n",
      "|**|Phil|osoph|ical| and| existential| perspectives|:|**\n",
      "|Beyond| the| biological| perspective|,| life| is| often| considered| a| fundamental| aspect| of| existence|,| a| quality| that| makes| us| human|,| and| a| source| of| meaning| and| purpose|.| Philosoph|ical| and| existential| perspectives| on| life| explore| the| following| aspects|:\n",
      "\n",
      "|1|.| **|Exist|ence|**:| Life| is| a| fundamental| aspect| of| existence|,| a| state| of| being| that| is| inherent| in| the| universe|.\n",
      "|2|.| **|Purpose|**:| Life| is| often| seen| as| having| purpose|,| whether| it| be| finding| happiness|,| fulfilling| one|'s| potential|,| or| contributing| to| the| greater| good|.\n",
      "|3|.| **|Mean|ing|**:| Life| is| often| imb|ued| with| meaning|,| which| can| arise| from| personal| experiences|,| relationships|,| and| accomplishments|.\n",
      "|4|.| **|Value|**:| Life| is| considered| valuable|,| with| many| people| believing| that| it| should| be| cherished|,| protected|,| and| preserved|.\n",
      "\n",
      "|**|Scient|ific| and| theoretical| perspectives|:|**\n",
      "|The| scientific| and| theoretical| perspectives| on| life| offer| additional| insights| into| the| nature| of| life|:\n",
      "\n",
      "|1|.| **|Emer|gence|**:| Life| is| often| seen| as| an| emerg|ent| property| of| complex| systems|,| arising| from| the| interactions| and| organization| of| simpler| components|.\n",
      "|2|.| **|Complex|ity|**:| Life| is| characterized| by| complex| structures|,| behaviors|,| and| processes| that| are| difficult| to| fully| understand| or| replicate|.\n",
      "|3|.| **|Ev|olution|**:| Life| has| evolved| over| time| through| natural| selection|,| genetic| drift|,| and| other| mechanisms|,| leading| to| the| incredible| diversity| of| life| forms| on| Earth|.\n",
      "|4|.| **|Quant|um| perspective|**:| Some| theories| in| quantum| mechanics|,| such| as| quantum| biology| and| quantum| consciousness|,| suggest| that| life| may| be| influenced| by| quantum| phenomena| at| the| molecular| and| atomic| levels|.\n",
      "\n",
      "|**|In| conclusion|:|**\n",
      "|Life| is| a| multif|ac|eted| and| complex| phenomenon| that| has| been| studied| and| debated| by| philosophers|,| scientists|,| and| thinkers| for| centuries|.| While| there| is| no| single| definition| of| life|,| it| is| generally| understood| to| encompass| the| biological|,| philosophical|,| and| existential| aspects| mentioned| above|.| Ultimately|,| the| meaning| and| significance| of| life| are| subjective| and| varied|,| depending| on| individual| perspectives| and| experiences|.||"
     ]
    }
   ],
   "source": [
    "# streaming example\n",
    "import time\n",
    "\n",
    "for token in model.stream(\"What is life?\"):\n",
    "    time.sleep(0.1)\n",
    "    print(token.content, end=\"|\")"
   ]
  },
  {
   "cell_type": "code",
   "execution_count": 15,
   "id": "6837d022",
   "metadata": {},
   "outputs": [
    {
     "data": {
      "text/plain": [
       "AIMessage(content=\"I'd be happy to help you with these puzzles!\\n\\n**1. The Snail in the Well**\\n\\nLet's break down the snail's progress:\\n\\nDay 1: The snail climbs 3 feet, so it's at 3 feet. At night, it slips back 2 feet, so it's at 1 foot.\\n\\nDay 2: The snail climbs 3 feet, so it's at 4 feet. At night, it slips back 2 feet, so it's at 2 feet.\\n\\nDay 3: The snail climbs 3 feet, so it's at 5 feet. At night, it slips back 2 feet, so it's at 3 feet.\\n\\nDay 4: The snail climbs 3 feet, so it's at 6 feet. At night, it slips back 2 feet, so it's at 4 feet.\\n\\nDay 5: The snail climbs 3 feet, so it's at 7 feet. At night, it slips back 2 feet, so it's at 5 feet.\\n\\nDay 6: The snail climbs 3 feet, so it's at 8 feet. At night, it slips back 2 feet, so it's at 6 feet.\\n\\nDay 7: The snail climbs 3 feet, so it's at 9 feet. At night, it slips back 2 feet, so it's at 7 feet.\\n\\nDay 8: The snail climbs 3 feet, so it's at 10 feet. At night, it slips back 2 feet, so it's at 8 feet.\\n\\nDay 9: The snail climbs 3 feet, so it's at 11 feet. At night, it slips back 2 feet, so it's at 9 feet.\\n\\nDay 10: The snail climbs 3 feet, so it's at 12 feet. At night, it slips back 2 feet, so it's at 10 feet.\\n\\nDay 11: The snail climbs 3 feet, so it's at 13 feet. At night, it slips back 2 feet, so it's at 11 feet.\\n\\nDay 12: The snail climbs 3 feet, so it's at 14 feet. At night, it slips back 2 feet, so it's at 12 feet.\\n\\nDay 13: The snail climbs 3 feet, so it's at 15 feet. At night, it slips back 2 feet, so it's at 13 feet.\\n\\nDay 14: The snail climbs 3 feet, so it's at 16 feet. At night, it slips back 2 feet, so it's at 14 feet.\\n\\nDay 15: The snail climbs 3 feet, so it's at 17 feet. At night, it slips back 2 feet, so it's at 15 feet.\\n\\nDay 16: The snail climbs 3 feet, so it's at 18 feet. At night, it slips back 2 feet, so it's at 16 feet.\\n\\nDay 17: The snail climbs 3 feet, so it's at 19 feet. At night, it slips back 2 feet, so it's at 17 feet.\\n\\nDay 18: The snail climbs 3 feet, so it's at 20 feet. It reaches the top of the well!\\n\\nIt takes the snail 18 days to reach the top of the well.\\n\\n**2. The Three Light Switches**\\n\\nHere's one solution:\\n\\n1. Turn switch 1 to ON for 5 minutes.\\n2. Turn switch 1 to OFF, and turn switch 2 to ON for 5 minutes.\\n3. Turn switch 2 to OFF, and turn switch 3 to ON for 5 minutes.\\n4. Enter the room and observe the light bulbs.\\n\\nNow, you know which switch controls which light bulb:\\n\\n* Switch 1 controls the light bulb that is ON.\\n* Switch 2 controls the light bulb that is OFF.\\n* Switch 3 controls the light bulb that is OFF.\\n\\n**3. The Two Coins**\\n\\nLet's analyze the problem:\\n\\n* One coin is not a nickel (5 cents).\\n* The total value of the two coins is 30 cents.\\n* The other coin could be a nickel, or it could be a quarter (25 cents).\\n\\nIf the other coin is a nickel, then the first coin must be a quarter (25 cents). But the problem states that one coin is not a nickel, so the other coin must be a quarter.\\n\\nTherefore, the two coins are a quarter (25 cents) and a nickel (5 cents).\\n\\n**4. Measuring 4 Gallons of Water**\\n\\nHere's a solution:\\n\\n1. Fill the 5-gallon bucket with water.\\n2. Pour water from the 5-gallon bucket into the 3-gallon bucket until the 3-gallon bucket is full.\\n3. Empty the 3-gallon bucket and fill it with water from the 5-gallon bucket.\\n4. Pour water from the 5-gallon bucket into the 3-gallon bucket until the 3-gallon bucket is full again.\\n5. You now have 4 gallons of water in the 5-gallon bucket.\\n\\n**5. The Three Unlabelled Light Switches**\\n\\nHere's a solution:\\n\\n1. Turn switch 1 to ON for 5 minutes.\\n2. Turn switch 1 to OFF, and turn switch 2 to ON for 5 minutes.\\n3. Turn switch 2 to OFF, and turn switch 3 to ON for 5 minutes.\\n4. Enter the room and observe the light bulbs.\\n5. Turn switch 1 to ON, and observe the light bulbs again.\\n6. If a light bulb is ON, it is controlled by switch 1. If a light bulb is OFF but was ON previously, it is controlled by switch 2. If a light bulb is OFF and was OFF previously, it is controlled by switch 3.\\n\\nBy using this method, you can figure out which switch controls which light bulb.\", additional_kwargs={}, response_metadata={'token_usage': {'completion_tokens': 1261, 'prompt_tokens': 273, 'total_tokens': 1534, 'completion_time': 0.939722872, 'prompt_time': 0.101662932, 'queue_time': 0.116928248, 'total_time': 1.041385804}, 'model_name': 'llama3-8b-8192', 'system_fingerprint': 'fp_4b5fbf0ced', 'service_tier': 'on_demand', 'finish_reason': 'stop', 'logprobs': None}, id='run--5aa7c418-c5ae-4f3d-8dba-cc32b00bc82e-0', usage_metadata={'input_tokens': 273, 'output_tokens': 1261, 'total_tokens': 1534})"
      ]
     },
     "execution_count": 15,
     "metadata": {},
     "output_type": "execute_result"
    }
   ],
   "source": [
    "model.invoke('A snail is at the bottom of a 20-foot well. Each day, it climbs up 3 feet, but at night, it slips back 2 feet. How many days will it take for the snail to reach the top of the well?\\n\\n2. You are standing in a room with three light switches. Each switch corresponds to one of three light bulbs in a room. Each light bulb is either on or off. You can turn the lights on and off as many times as you want, but you can only enter the room one time. How can you figure out which switch controls which light bulb?\\n\\n3. A woman has two coins that add up to 30 cents. One coin is not a nickel. What are the two coins?\\n\\n4. You are given a 3-gallon bucket and a 5-gallon bucket. How can you measure exactly 4 gallons of water using only these two buckets?\\n\\n5. There are three switches, but they are not labelled. Each switch corresponds to one of three light bulbs in a room. Each light bulb is either on or off. You can turn the lights on and off as many times as you want, but you can only enter the room once to observe the bulbs. How can you figure out which switch controls which light bulb?\\\n",
    "')"
   ]
  },
  {
   "cell_type": "code",
   "execution_count": null,
   "id": "a07c5df5-4d17-4e48-bc2c-150f070643b6",
   "metadata": {},
   "outputs": [],
   "source": []
  }
 ],
 "metadata": {
  "kernelspec": {
   "display_name": "Python 3 (ipykernel)",
   "language": "python",
   "name": "python3"
  },
  "language_info": {
   "codemirror_mode": {
    "name": "ipython",
    "version": 3
   },
   "file_extension": ".py",
   "mimetype": "text/x-python",
   "name": "python",
   "nbconvert_exporter": "python",
   "pygments_lexer": "ipython3",
   "version": "3.12.5"
  }
 },
 "nbformat": 4,
 "nbformat_minor": 5
}

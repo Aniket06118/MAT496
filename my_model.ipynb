{
 "cells": [
  {
   "cell_type": "code",
   "execution_count": 1,
   "id": "2270370c-7f63-4570-9f86-2c6dea909d54",
   "metadata": {},
   "outputs": [
    {
     "data": {
      "text/plain": [
       "True"
      ]
     },
     "execution_count": 1,
     "metadata": {},
     "output_type": "execute_result"
    }
   ],
   "source": [
    "from dotenv import load_dotenv\n",
    "load_dotenv()"
   ]
  },
  {
   "cell_type": "code",
   "execution_count": 2,
   "id": "adee5f0a-c644-4b38-a5f8-cb96f85b6f1b",
   "metadata": {},
   "outputs": [],
   "source": [
    "from langchain.chat_models import init_chat_model\n",
    "model=init_chat_model(\"llama-3.1-8b-instant\",model_provider='groq')"
   ]
  },
  {
   "cell_type": "code",
   "execution_count": 3,
   "id": "32af9540-2d26-47c1-95de-649369ca6fd9",
   "metadata": {},
   "outputs": [
    {
     "data": {
      "text/plain": [
       "AIMessage(content=\"Not much, just here to help with any questions or topics you'd like to chat about. How's your day going so far?\", additional_kwargs={}, response_metadata={'token_usage': {'completion_tokens': 28, 'prompt_tokens': 38, 'total_tokens': 66, 'completion_time': 0.021399365, 'prompt_time': 0.021781058, 'queue_time': 0.043775172, 'total_time': 0.043180423}, 'model_name': 'llama-3.1-8b-instant', 'system_fingerprint': 'fp_c40956ddc4', 'service_tier': 'on_demand', 'finish_reason': 'stop', 'logprobs': None}, id='run--d0bd76fc-30db-4083-abfe-0ad112565fd8-0', usage_metadata={'input_tokens': 38, 'output_tokens': 28, 'total_tokens': 66})"
      ]
     },
     "execution_count": 3,
     "metadata": {},
     "output_type": "execute_result"
    }
   ],
   "source": [
    "model.invoke('hey whats up')"
   ]
  },
  {
   "cell_type": "code",
   "execution_count": 4,
   "id": "4b210397-5276-48ee-92d8-43ab391f1241",
   "metadata": {},
   "outputs": [
    {
     "data": {
      "text/plain": [
       "AIMessage(content=\"It can be frustrating when things are going well during the day, but then start to go downhill as the night approaches. There could be several reasons for this. Here are a few possibilities:\\n\\n1. **Burnout**: You might be feeling physically or mentally exhausted from the day's activities, which can lead to a decline in your mood and energy levels as the night wears on.\\n2. **Anxiety or stress**: Nighttime can be a trigger for anxiety or stress, especially if you're worried about the next day or have unresolved issues that are weighing on your mind.\\n3. **Sleep deprivation**: Not getting enough sleep or having poor sleep quality can affect your mood, energy, and overall well-being, making it harder to cope with nighttime stressors.\\n4. **Habits and routines**: Your nighttime habits, such as scrolling through social media or watching TV, can be detrimental to your mental health if you're not careful.\\n5. **Expectations vs. reality**: You might have high expectations for yourself or others, which can lead to disappointment and frustration when reality doesn't meet those expectations.\\n\\nTo turn your night around, try these suggestions:\\n\\n1. **Practice self-care**: Engage in activities that help you relax, such as reading, taking a warm bath, or practicing yoga or meditation.\\n2. **Set boundaries**: Establish a healthy routine and stick to it, whether that means going to bed at a reasonable hour or limiting your screen time.\\n3. **Reframe your thinking**: Challenge negative thoughts and try to focus on the positive aspects of your day.\\n4. **Reach out for support**: Talk to a friend, family member, or mental health professional if you're struggling with anxiety, stress, or burnout.\\n5. **Get enough sleep**: Prioritize sleep and aim for 7-9 hours of restful sleep each night to help regulate your mood and energy levels.\\n\\nRemember, it's normal for days to have ups and downs. By acknowledging the potential causes and taking proactive steps to manage your stress and emotions, you can work towards a more balanced and fulfilling night.\\n\\nWhat do you think might be contributing to your nighttime struggles?\", additional_kwargs={}, response_metadata={'token_usage': {'completion_tokens': 436, 'prompt_tokens': 53, 'total_tokens': 489, 'completion_time': 0.605265917, 'prompt_time': 0.009750127, 'queue_time': 0.061953562, 'total_time': 0.615016044}, 'model_name': 'llama-3.1-8b-instant', 'system_fingerprint': 'fp_7083106d2c', 'service_tier': 'on_demand', 'finish_reason': 'stop', 'logprobs': None}, id='run--82a1097d-7a7c-41d8-bc5b-73162172041b-0', usage_metadata={'input_tokens': 53, 'output_tokens': 436, 'total_tokens': 489})"
      ]
     },
     "execution_count": 4,
     "metadata": {},
     "output_type": "execute_result"
    }
   ],
   "source": [
    "model.invoke('my day is going great till now usually it starts to fuckup in the night time though')"
   ]
  },
  {
   "cell_type": "code",
   "execution_count": 5,
   "id": "8ddcc4d4-eca9-497f-9094-bdffbbc50f4e",
   "metadata": {},
   "outputs": [
    {
     "data": {
      "text/plain": [
       "AIMessage(content=\"I'll ask you a series of questions that can help assess your problem-solving skills, logical reasoning, and critical thinking abilities. Keep in mind that IQ tests are not the only measure of intelligence, and these questions are meant to be a fun and informal assessment.\\n\\nHere are your first five questions:\\n\\n1. A snail is at the bottom of a 20-foot well. Each day, it climbs up 3 feet, but at night, it slips back 2 feet. How many days will it take for the snail to reach the top of the well?\\n\\n2. You are standing in a room with three light switches. Each switch corresponds to one of three light bulbs in a room. Each light bulb is either on or off. You can turn the lights on and off as many times as you want, but you can only enter the room one time. How can you figure out which switch controls which light bulb?\\n\\n3. A woman has two coins that add up to 30 cents. One coin is not a nickel. What are the two coins?\\n\\n4. You are given a 3-gallon bucket and a 5-gallon bucket. How can you measure exactly 4 gallons of water using only these two buckets?\\n\\n5. There are three switches, but they are not labelled. Each switch corresponds to one of three light bulbs in a room. Each light bulb is either on or off. You can turn the lights on and off as many times as you want, but you can only enter the room once to observe the bulbs. How can you figure out which switch controls which light bulb?\\n\\nPlease answer these questions to the best of your ability.\", additional_kwargs={}, response_metadata={'token_usage': {'completion_tokens': 336, 'prompt_tokens': 46, 'total_tokens': 382, 'completion_time': 0.526787933, 'prompt_time': 0.005836433, 'queue_time': 0.044973967, 'total_time': 0.532624366}, 'model_name': 'llama-3.1-8b-instant', 'system_fingerprint': 'fp_7083106d2c', 'service_tier': 'on_demand', 'finish_reason': 'stop', 'logprobs': None}, id='run--e6489185-a791-4aed-9ec3-9b0108d3b923-0', usage_metadata={'input_tokens': 46, 'output_tokens': 336, 'total_tokens': 382})"
      ]
     },
     "execution_count": 5,
     "metadata": {},
     "output_type": "execute_result"
    }
   ],
   "source": [
    "model.invoke('ask me some set of questions to test a persons iq')"
   ]
  },
  {
   "cell_type": "code",
   "execution_count": 6,
   "id": "8960f06b-d19f-4219-85b4-4e815445ab25",
   "metadata": {},
   "outputs": [
    {
     "data": {
      "text/plain": [
       "AIMessage(content=\"I'm ready to calculate your IQ based on the answers you provide. Please go ahead and share your answers to a series of questions, and I'll help you estimate your IQ. \\n\\n**Note:** I'll be using the Raven's Progressive Matrices (RPM) test as a basis for estimating your IQ. This test is a non-verbal test that assesses working memory, problem-solving, and reasoning skills. \\n\\nThe test will consist of a series of questions, each with a series of matrices and patterns. You'll need to identify the missing pattern or complete the series.\\n\\nPlease respond with the number of the matrix and the pattern you think is missing. If you're unsure or need clarification, feel free to ask.\\n\\nLet's get started!\\n\\nHere's your first question:\\n\\n**Matrix 1:**\\n\\n1 | 2 | 3\\n---------\\n4 | 5 | 6\\n---------\\n7 | 8 | ?\\n\\nWhat's your answer?\", additional_kwargs={}, response_metadata={'token_usage': {'completion_tokens': 193, 'prompt_tokens': 50, 'total_tokens': 243, 'completion_time': 0.368039953, 'prompt_time': 0.00755587, 'queue_time': 0.059073139, 'total_time': 0.375595823}, 'model_name': 'llama-3.1-8b-instant', 'system_fingerprint': 'fp_7083106d2c', 'service_tier': 'on_demand', 'finish_reason': 'stop', 'logprobs': None}, id='run--c48ebcda-0a54-4134-addd-8b8c4a04de04-0', usage_metadata={'input_tokens': 50, 'output_tokens': 193, 'total_tokens': 243})"
      ]
     },
     "execution_count": 6,
     "metadata": {},
     "output_type": "execute_result"
    }
   ],
   "source": [
    "model.invoke(\"i'll be sharing the answers with u , calculate the iq and tell me\")"
   ]
  },
  {
   "cell_type": "code",
   "execution_count": 10,
   "id": "3c995c81-4733-446e-a9bf-ca1bd8b77bce",
   "metadata": {},
   "outputs": [
    {
     "data": {
      "text/plain": [
       "AIMessage(content=\"Thank you for the puzzles. It seems like there are only 4 puzzles here, not 5. Here are the solutions and analysis for each puzzle:\\n\\n**1. The Snail in the Well**\\n\\nThe puzzle is asking for the number of days it takes for the snail to climb out of the well. Let's analyze the pattern:\\n\\n- The snail climbs 3 feet each day and slips back 2 feet at night.\\n- So, the net progress of the snail is 3 - 2 = 1 foot per day.\\n- To climb 20 feet, it would take the snail 20 / 1 = 20 days, but since the snail is already at 17 feet on the 17th day, it only needs 3 more days to climb the remaining 3 feet.\\n\\nTherefore, it takes the snail 18 days to reach the top of the well.\\n\\n**2. The Three Light Switches**\\n\\nThis is a classic puzzle that requires us to think about the sequence of events and the timing.\\n\\n1. Turn switch 1 to ON for 5 minutes.\\n2. Turn switch 1 to OFF, and turn switch 2 to ON for 5 minutes.\\n3. Turn switch 2 to OFF, and turn switch 3 to ON for 5 minutes.\\n4. Enter the room and observe the light bulbs.\\n\\nNow, let's analyze the situation:\\n\\n- The light bulb controlled by switch 1 was ON for 5 minutes, so it will still be ON.\\n- The light bulb controlled by switch 2 was ON for 5 minutes, but switch 2 was turned OFF 5 minutes ago, so it is OFF.\\n- The light bulb controlled by switch 3 was ON for 5 minutes, and switch 3 was turned ON after switch 2 was turned OFF, so it was ON for 5 minutes and is now OFF.\\n\\nTherefore, we can determine which switch controls which light bulb based on their current state.\\n\\n**3. The Two Coins**\\n\\nThis puzzle requires us to analyze the possible combinations of coins and their values.\\n\\nLet's assume that the first coin is a nickel (5 cents) and the second coin is a quarter (25 cents).\\n\\nIf the first coin is a nickel, then the second coin must be a quarter, and the total value would be 30 cents, which matches the problem statement.\\n\\nIf the first coin is not a nickel, then it must be a quarter, and the second coin must be a nickel, which also matches the problem statement.\\n\\nTherefore, the two coins are a quarter (25 cents) and a nickel (5 cents).\\n\\n**4. Measuring 4 Gallons of Water**\\n\\nThis puzzle requires us to think creatively about how to measure 4 gallons of water using two buckets.\\n\\n1. Fill the 5-gallon bucket with water.\\n2. Pour water from the 5-gallon bucket into the 3-gallon bucket until the 3-gallon bucket is full.\\n3. Empty the 3-gallon bucket and fill it with water from the 5-gallon bucket.\\n4. Pour water from the 5-gallon bucket into the 3-gallon bucket until the 3-gallon bucket is full again.\\n5. You now have 4 gallons of water in the 5-gallon bucket.\\n\\nThis solution may seem counterintuitive, but it works by using the 5-gallon bucket as a container to hold 4 gallons of water.\\n\\n**5. The Three Unlabelled Light Switches**\\n\\nThis puzzle is similar to the first Three Light Switches puzzle.\\n\\n1. Turn switch 1 to ON for 5 minutes.\\n2. Turn switch 1 to OFF, and turn switch 2 to ON for 5 minutes.\\n3. Turn switch 2 to OFF, and turn switch 3 to ON for 5 minutes.\\n4. Enter the room and observe the light bulbs.\\n5. Turn switch 1 to ON, and observe the light bulbs again.\\n\\nNow, let's analyze the situation:\\n\\n- If a light bulb is ON, it is controlled by switch 1.\\n- If a light bulb is OFF but was ON previously, it is controlled by switch 2.\\n- If a light bulb is OFF and was OFF previously, it is controlled by switch 3.\\n\\nBy using this method, we can figure out which switch controls which light bulb.\", additional_kwargs={}, response_metadata={'token_usage': {'completion_tokens': 894, 'prompt_tokens': 1294, 'total_tokens': 2188, 'completion_time': 1.116158822, 'prompt_time': 0.083490217, 'queue_time': 0.075123391, 'total_time': 1.199649039}, 'model_name': 'llama-3.1-8b-instant', 'system_fingerprint': 'fp_2115512ff6', 'service_tier': 'on_demand', 'finish_reason': 'stop', 'logprobs': None}, id='run--bb2d8d4d-f7ae-4f24-941d-7bf1ea863d13-0', usage_metadata={'input_tokens': 1294, 'output_tokens': 894, 'total_tokens': 2188})"
      ]
     },
     "execution_count": 10,
     "metadata": {},
     "output_type": "execute_result"
    }
   ],
   "source": [
    "model.invoke(\"I'd be happy to help you with these puzzles!\\n\\n**1. The Snail in the Well**\\n\\nLet's break down the snail's progress:\\n\\nDay 1: The snail climbs 3 feet, so it's at 3 feet. At night, it slips back 2 feet, so it's at 1 foot.\\n\\nDay 2: The snail climbs 3 feet, so it's at 4 feet. At night, it slips back 2 feet, so it's at 2 feet.\\n\\nDay 3: The snail climbs 3 feet, so it's at 5 feet. At night, it slips back 2 feet, so it's at 3 feet.\\n\\nDay 4: The snail climbs 3 feet, so it's at 6 feet. At night, it slips back 2 feet, so it's at 4 feet.\\n\\nDay 5: The snail climbs 3 feet, so it's at 7 feet. At night, it slips back 2 feet, so it's at 5 feet.\\n\\nDay 6: The snail climbs 3 feet, so it's at 8 feet. At night, it slips back 2 feet, so it's at 6 feet.\\n\\nDay 7: The snail climbs 3 feet, so it's at 9 feet. At night, it slips back 2 feet, so it's at 7 feet.\\n\\nDay 8: The snail climbs 3 feet, so it's at 10 feet. At night, it slips back 2 feet, so it's at 8 feet.\\n\\nDay 9: The snail climbs 3 feet, so it's at 11 feet. At night, it slips back 2 feet, so it's at 9 feet.\\n\\nDay 10: The snail climbs 3 feet, so it's at 12 feet. At night, it slips back 2 feet, so it's at 10 feet.\\n\\nDay 11: The snail climbs 3 feet, so it's at 13 feet. At night, it slips back 2 feet, so it's at 11 feet.\\n\\nDay 12: The snail climbs 3 feet, so it's at 14 feet. At night, it slips back 2 feet, so it's at 12 feet.\\n\\nDay 13: The snail climbs 3 feet, so it's at 15 feet. At night, it slips back 2 feet, so it's at 13 feet.\\n\\nDay 14: The snail climbs 3 feet, so it's at 16 feet. At night, it slips back 2 feet, so it's at 14 feet.\\n\\nDay 15: The snail climbs 3 feet, so it's at 17 feet. At night, it slips back 2 feet, so it's at 15 feet.\\n\\nDay 16: The snail climbs 3 feet, so it's at 18 feet. At night, it slips back 2 feet, so it's at 16 feet.\\n\\nDay 17: The snail climbs 3 feet, so it's at 19 feet. At night, it slips back 2 feet, so it's at 17 feet.\\n\\nDay 18: The snail climbs 3 feet, so it's at 20 feet. It reaches the top of the well!\\n\\nIt takes the snail 18 days to reach the top of the well.\\n\\n**2. The Three Light Switches**\\n\\nHere's one solution:\\n\\n1. Turn switch 1 to ON for 5 minutes.\\n2. Turn switch 1 to OFF, and turn switch 2 to ON for 5 minutes.\\n3. Turn switch 2 to OFF, and turn switch 3 to ON for 5 minutes.\\n4. Enter the room and observe the light bulbs.\\n\\nNow, you know which switch controls which light bulb:\\n\\n* Switch 1 controls the light bulb that is ON.\\n* Switch 2 controls the light bulb that is OFF.\\n* Switch 3 controls the light bulb that is OFF.\\n\\n**3. The Two Coins**\\n\\nLet's analyze the problem:\\n\\n* One coin is not a nickel (5 cents).\\n* The total value of the two coins is 30 cents.\\n* The other coin could be a nickel, or it could be a quarter (25 cents).\\n\\nIf the other coin is a nickel, then the first coin must be a quarter (25 cents). But the problem states that one coin is not a nickel, so the other coin must be a quarter.\\n\\nTherefore, the two coins are a quarter (25 cents) and a nickel (5 cents).\\n\\n**4. Measuring 4 Gallons of Water**\\n\\nHere's a solution:\\n\\n1. Fill the 5-gallon bucket with water.\\n2. Pour water from the 5-gallon bucket into the 3-gallon bucket until the 3-gallon bucket is full.\\n3. Empty the 3-gallon bucket and fill it with water from the 5-gallon bucket.\\n4. Pour water from the 5-gallon bucket into the 3-gallon bucket until the 3-gallon bucket is full again.\\n5. You now have 4 gallons of water in the 5-gallon bucket.\\n\\n**5. The Three Unlabelled Light Switches**\\n\\nHere's a solution:\\n\\n1. Turn switch 1 to ON for 5 minutes.\\n2. Turn switch 1 to OFF, and turn switch 2 to ON for 5 minutes.\\n3. Turn switch 2 to OFF, and turn switch 3 to ON for 5 minutes.\\n4. Enter the room and observe the light bulbs.\\n5. Turn switch 1 to ON, and observe the light bulbs again.\\n6. If a light bulb is ON, it is controlled by switch 1. If a light bulb is OFF but was ON previously, it is controlled by switch 2. If a light bulb is OFF and was OFF previously, it is controlled by switch 3.\\n\\nBy using this method, you can figure out which switch controls which light bulb\")"
   ]
  },
  {
   "cell_type": "code",
   "execution_count": 11,
   "id": "ba9cf8ee-9565-4033-857e-e4917faaf686",
   "metadata": {},
   "outputs": [
    {
     "data": {
      "text/plain": [
       "AIMessage(content=\"IQ, or Intelligence Quotient, is a score derived from a series of standardized tests designed to measure human intelligence. The concept of IQ was first introduced by French psychologist Alfred Binet in the early 20th century.\\n\\nThe average IQ score is set at 100, with a standard deviation of 15. This means that:\\n\\n- About 68% of the population will have an IQ between 85 and 115 (i.e., within one standard deviation of the mean).\\n- About 95% of the population will have an IQ between 70 and 130 (i.e., within two standard deviations of the mean).\\n- About 99.7% of the population will have an IQ between 55 and 145 (i.e., within three standard deviations of the mean).\\n\\nHere are some general IQ score ranges, although it's essential to note that IQ scores can have varying interpretations depending on the test used and the context in which they're applied:\\n\\n- Average: 85-115\\n- Above Average: 116-130\\n- Gifted: 131-145\\n- Highly Gifted: 146-160\\n- Profoundly Gifted: 161-175\\n- Genius: 176 and above\\n- Below Average: 70-84\\n- Borderline: 55-69\\n- Extremely Low: 40-54\\n- Profoundly Low: Below 40\\n\\nKeep in mind that IQ scores are not the only measure of intelligence, and there is ongoing debate among experts about the validity and usefulness of IQ tests.\", additional_kwargs={}, response_metadata={'token_usage': {'completion_tokens': 320, 'prompt_tokens': 39, 'total_tokens': 359, 'completion_time': 0.392104821, 'prompt_time': 0.005523374, 'queue_time': 0.054518126, 'total_time': 0.397628195}, 'model_name': 'llama-3.1-8b-instant', 'system_fingerprint': 'fp_7083106d2c', 'service_tier': 'on_demand', 'finish_reason': 'stop', 'logprobs': None}, id='run--e32a4a2f-424b-4533-9650-0d87f56c841d-0', usage_metadata={'input_tokens': 39, 'output_tokens': 320, 'total_tokens': 359})"
      ]
     },
     "execution_count": 11,
     "metadata": {},
     "output_type": "execute_result"
    }
   ],
   "source": [
    "model.invoke('so whats the iq')"
   ]
  },
  {
   "cell_type": "code",
   "execution_count": 14,
   "id": "baa2130e-460b-4efd-a71a-44095c67614f",
   "metadata": {},
   "outputs": [
    {
     "name": "stdout",
     "output_type": "stream",
     "text": [
      "translate the given text into the given language:\n",
      "text: who are you ?\n",
      "lang: German\n",
      "\n"
     ]
    }
   ],
   "source": [
    "promt=promt_template.format(text='who are you ?', lang='German')\n",
    "print(promt)"
   ]
  },
  {
   "cell_type": "code",
   "execution_count": 15,
   "id": "494ab9c4-0dcd-468d-a7fa-6cfd5358fbbb",
   "metadata": {},
   "outputs": [
    {
     "data": {
      "text/plain": [
       "AIMessage(content='The translation of \"who are you?\" into German is:\\n\\n\" Wer bist du?\"', additional_kwargs={}, response_metadata={'token_usage': {'completion_tokens': 18, 'prompt_tokens': 54, 'total_tokens': 72, 'completion_time': 0.030625087, 'prompt_time': 0.045760568, 'queue_time': 0.048960392, 'total_time': 0.076385655}, 'model_name': 'llama-3.1-8b-instant', 'system_fingerprint': 'fp_7083106d2c', 'service_tier': 'on_demand', 'finish_reason': 'stop', 'logprobs': None}, id='run--0f64d47c-2bfb-43c4-8a54-c895184e4be3-0', usage_metadata={'input_tokens': 54, 'output_tokens': 18, 'total_tokens': 72})"
      ]
     },
     "execution_count": 15,
     "metadata": {},
     "output_type": "execute_result"
    }
   ],
   "source": [
    "response=model.invoke(promt)\n",
    "response"
   ]
  }
 ],
 "metadata": {
  "kernelspec": {
   "display_name": "Python 3 (ipykernel)",
   "language": "python",
   "name": "python3"
  },
  "language_info": {
   "codemirror_mode": {
    "name": "ipython",
    "version": 3
   },
   "file_extension": ".py",
   "mimetype": "text/x-python",
   "name": "python",
   "nbconvert_exporter": "python",
   "pygments_lexer": "ipython3",
   "version": "3.12.5"
  }
 },
 "nbformat": 4,
 "nbformat_minor": 5
}

{
 "cells": [
  {
   "cell_type": "code",
   "execution_count": 1,
   "id": "ad499ea8-b8a6-4212-aeaa-9254e54126b3",
   "metadata": {},
   "outputs": [
    {
     "data": {
      "text/plain": [
       "True"
      ]
     },
     "execution_count": 1,
     "metadata": {},
     "output_type": "execute_result"
    }
   ],
   "source": [
    "from dotenv import load_dotenv\n",
    "load_dotenv(override=True)"
   ]
  },
  {
   "cell_type": "code",
   "execution_count": 2,
   "id": "bcd6c11e-6d37-459b-b4dc-251d4fbef701",
   "metadata": {},
   "outputs": [],
   "source": [
    "import getpass\n",
    "import os\n",
    "\n",
    "if not os.environ.get(\"GROQ_API_KEY\"):\n",
    "  os.environ[\"GROQ_API_KEY\"] = getpass.getpass(\"Enter API key for Groq: \")\n",
    "\n",
    "from langchain.chat_models import init_chat_model\n",
    "\n",
    "llm = init_chat_model(\"llama-3.3-70b-versatile\", model_provider=\"groq\")"
   ]
  },
  {
   "cell_type": "code",
   "execution_count": 4,
   "id": "5bddd1b7-c2e9-431a-8703-80594771defa",
   "metadata": {},
   "outputs": [
    {
     "name": "stdout",
     "output_type": "stream",
     "text": [
      "multiply\n",
      "Multiply two numbers.\n",
      "{'a': {'title': 'A', 'type': 'number'}, 'b': {'title': 'B', 'type': 'number'}}\n"
     ]
    }
   ],
   "source": [
    "from langchain_core.tools import tool\n",
    "\n",
    "\n",
    "@tool\n",
    "def multiply(a: float, b: float) -> float:\n",
    "    \"\"\"Multiply two numbers.\"\"\"\n",
    "    return a * b\n",
    "\n",
    "\n",
    "# Let's inspect some of the attributes associated with the tool.\n",
    "print(multiply.name)\n",
    "print(multiply.description)\n",
    "print(multiply.args)\n"
   ]
  },
  {
   "cell_type": "code",
   "execution_count": 44,
   "id": "2ff41870-33f8-4c36-bc66-d16ed8fa052a",
   "metadata": {},
   "outputs": [],
   "source": [
    "@tool\n",
    "def add(a:float,b:float)->float:\n",
    "    \"\"\"add two numbers\"\"\"\n",
    "    return a+b\n"
   ]
  },
  {
   "cell_type": "code",
   "execution_count": 43,
   "id": "8ba3e2e5-ce09-44dd-b8b5-f5b39f02b054",
   "metadata": {},
   "outputs": [],
   "source": [
    "@tool\n",
    "def subtract(a:float,b:float)->float:\n",
    "    \"\"\"subtract two numbers\"\"\"\n",
    "    return a-b\n"
   ]
  },
  {
   "cell_type": "code",
   "execution_count": 31,
   "id": "48827920-5cbc-4a23-a36e-3992e629fd18",
   "metadata": {},
   "outputs": [],
   "source": [
    "@tool\n",
    "def divide(a:float,b:float)->float:\n",
    "    \"\"\"dividing two numbers\"\"\"\n",
    "    return a/b\n"
   ]
  },
  {
   "cell_type": "code",
   "execution_count": 50,
   "id": "d9358bf2-4274-468c-bc08-0daf6f7350d1",
   "metadata": {},
   "outputs": [],
   "source": [
    "tools_list=[multiply,add,subtract,divide]\n",
    "tools_dict = {t.name: t for t in tools_list} # comes in handy at the time of invokation"
   ]
  },
  {
   "cell_type": "code",
   "execution_count": 51,
   "id": "c6e46f7e-b0ae-4821-8ca1-69bd092d9b9b",
   "metadata": {},
   "outputs": [],
   "source": [
    "# we create a tool calling Agent by binding a list of tools to the llm\n",
    "llm_with_tools = llm.bind_tools(tools_list)"
   ]
  },
  {
   "cell_type": "code",
   "execution_count": 52,
   "id": "de9e0943-fd36-4118-b499-d60003b2797d",
   "metadata": {},
   "outputs": [],
   "source": [
    "response = llm_with_tools.invoke(\"What is 10 times 40?\")\n",
    "response1=llm_with_tools.invoke('what is 10 added to 95?')\n",
    "\n"
   ]
  },
  {
   "cell_type": "code",
   "execution_count": 53,
   "id": "b4d4de98-d0f5-4148-8191-f668a525a75e",
   "metadata": {},
   "outputs": [
    {
     "data": {
      "text/plain": [
       "[{'name': 'add',\n",
       "  'args': {'a': 10, 'b': 95},\n",
       "  'id': 'rq8nb5nb4',\n",
       "  'type': 'tool_call'}]"
      ]
     },
     "execution_count": 53,
     "metadata": {},
     "output_type": "execute_result"
    }
   ],
   "source": [
    "response1.tool_calls"
   ]
  },
  {
   "cell_type": "code",
   "execution_count": 54,
   "id": "c784fdfa-173b-4483-8047-1affa91e8d11",
   "metadata": {},
   "outputs": [
    {
     "data": {
      "text/plain": [
       "[{'name': 'multiply',\n",
       "  'args': {'a': 10, 'b': 40},\n",
       "  'id': '3egg65h24',\n",
       "  'type': 'tool_call'}]"
      ]
     },
     "execution_count": 54,
     "metadata": {},
     "output_type": "execute_result"
    }
   ],
   "source": [
    "response.tool_calls"
   ]
  },
  {
   "cell_type": "code",
   "execution_count": 55,
   "id": "3fe51a72-a27c-4c57-b853-144aa4aea07b",
   "metadata": {},
   "outputs": [
    {
     "data": {
      "text/plain": [
       "ToolMessage(content='105.0', name='add', tool_call_id='rq8nb5nb4')"
      ]
     },
     "execution_count": 55,
     "metadata": {},
     "output_type": "execute_result"
    }
   ],
   "source": [
    "tools_dict[response1.tool_calls[0]['name']].invoke(response1.tool_calls[0])"
   ]
  },
  {
   "cell_type": "code",
   "execution_count": 41,
   "id": "ea6da891-ba94-4091-a947-3f074fe8947d",
   "metadata": {},
   "outputs": [
    {
     "data": {
      "text/plain": [
       "ToolMessage(content='400.0', name='multiply', tool_call_id='7n6bqax5d')"
      ]
     },
     "execution_count": 41,
     "metadata": {},
     "output_type": "execute_result"
    }
   ],
   "source": [
    "tools_dict[response.tool_calls[0][\"name\"]].invoke(response.tool_calls[0])"
   ]
  },
  {
   "cell_type": "code",
   "execution_count": 56,
   "id": "35e36faf-d9a8-4bb6-84b4-fbd9899d399c",
   "metadata": {},
   "outputs": [
    {
     "ename": "TypeError",
     "evalue": "expected string or bytes-like object, got 'NoneType'",
     "output_type": "error",
     "traceback": [
      "\u001b[31m---------------------------------------------------------------------------\u001b[39m",
      "\u001b[31mTypeError\u001b[39m                                 Traceback (most recent call last)",
      "\u001b[36mCell\u001b[39m\u001b[36m \u001b[39m\u001b[32mIn[56]\u001b[39m\u001b[32m, line 13\u001b[39m\n\u001b[32m      5\u001b[39m payload = json.dumps({\n\u001b[32m      6\u001b[39m   \u001b[33m\"\u001b[39m\u001b[33mq\u001b[39m\u001b[33m\"\u001b[39m: \u001b[33m\"\u001b[39m\u001b[33mAjit Kumar Shiv Nadar University\u001b[39m\u001b[33m\"\u001b[39m,\n\u001b[32m      7\u001b[39m   \u001b[33m\"\u001b[39m\u001b[33mgl\u001b[39m\u001b[33m\"\u001b[39m: \u001b[33m\"\u001b[39m\u001b[33min\u001b[39m\u001b[33m\"\u001b[39m\n\u001b[32m      8\u001b[39m })\n\u001b[32m      9\u001b[39m headers = {\n\u001b[32m     10\u001b[39m   \u001b[33m'\u001b[39m\u001b[33mX-API-KEY\u001b[39m\u001b[33m'\u001b[39m: os.environ.get(\u001b[33m\"\u001b[39m\u001b[33mSERPER_API_KEY\u001b[39m\u001b[33m\"\u001b[39m),\n\u001b[32m     11\u001b[39m   \u001b[33m'\u001b[39m\u001b[33mContent-Type\u001b[39m\u001b[33m'\u001b[39m: \u001b[33m'\u001b[39m\u001b[33mapplication/json\u001b[39m\u001b[33m'\u001b[39m\n\u001b[32m     12\u001b[39m }\n\u001b[32m---> \u001b[39m\u001b[32m13\u001b[39m \u001b[43mconn\u001b[49m\u001b[43m.\u001b[49m\u001b[43mrequest\u001b[49m\u001b[43m(\u001b[49m\u001b[33;43m\"\u001b[39;49m\u001b[33;43mPOST\u001b[39;49m\u001b[33;43m\"\u001b[39;49m\u001b[43m,\u001b[49m\u001b[43m \u001b[49m\u001b[33;43m\"\u001b[39;49m\u001b[33;43m/search\u001b[39;49m\u001b[33;43m\"\u001b[39;49m\u001b[43m,\u001b[49m\u001b[43m \u001b[49m\u001b[43mpayload\u001b[49m\u001b[43m,\u001b[49m\u001b[43m \u001b[49m\u001b[43mheaders\u001b[49m\u001b[43m)\u001b[49m\n\u001b[32m     14\u001b[39m res = conn.getresponse()\n\u001b[32m     15\u001b[39m data = res.read()\n",
      "\u001b[36mFile \u001b[39m\u001b[32m~\\AppData\\Local\\Programs\\Python\\Python312\\Lib\\http\\client.py:1336\u001b[39m, in \u001b[36mHTTPConnection.request\u001b[39m\u001b[34m(self, method, url, body, headers, encode_chunked)\u001b[39m\n\u001b[32m   1333\u001b[39m \u001b[38;5;28;01mdef\u001b[39;00m\u001b[38;5;250m \u001b[39m\u001b[34mrequest\u001b[39m(\u001b[38;5;28mself\u001b[39m, method, url, body=\u001b[38;5;28;01mNone\u001b[39;00m, headers={}, *,\n\u001b[32m   1334\u001b[39m             encode_chunked=\u001b[38;5;28;01mFalse\u001b[39;00m):\n\u001b[32m   1335\u001b[39m \u001b[38;5;250m    \u001b[39m\u001b[33;03m\"\"\"Send a complete request to the server.\"\"\"\u001b[39;00m\n\u001b[32m-> \u001b[39m\u001b[32m1336\u001b[39m     \u001b[38;5;28;43mself\u001b[39;49m\u001b[43m.\u001b[49m\u001b[43m_send_request\u001b[49m\u001b[43m(\u001b[49m\u001b[43mmethod\u001b[49m\u001b[43m,\u001b[49m\u001b[43m \u001b[49m\u001b[43murl\u001b[49m\u001b[43m,\u001b[49m\u001b[43m \u001b[49m\u001b[43mbody\u001b[49m\u001b[43m,\u001b[49m\u001b[43m \u001b[49m\u001b[43mheaders\u001b[49m\u001b[43m,\u001b[49m\u001b[43m \u001b[49m\u001b[43mencode_chunked\u001b[49m\u001b[43m)\u001b[49m\n",
      "\u001b[36mFile \u001b[39m\u001b[32m~\\AppData\\Local\\Programs\\Python\\Python312\\Lib\\http\\client.py:1377\u001b[39m, in \u001b[36mHTTPConnection._send_request\u001b[39m\u001b[34m(self, method, url, body, headers, encode_chunked)\u001b[39m\n\u001b[32m   1374\u001b[39m     encode_chunked = \u001b[38;5;28;01mFalse\u001b[39;00m\n\u001b[32m   1376\u001b[39m \u001b[38;5;28;01mfor\u001b[39;00m hdr, value \u001b[38;5;129;01min\u001b[39;00m headers.items():\n\u001b[32m-> \u001b[39m\u001b[32m1377\u001b[39m     \u001b[38;5;28;43mself\u001b[39;49m\u001b[43m.\u001b[49m\u001b[43mputheader\u001b[49m\u001b[43m(\u001b[49m\u001b[43mhdr\u001b[49m\u001b[43m,\u001b[49m\u001b[43m \u001b[49m\u001b[43mvalue\u001b[49m\u001b[43m)\u001b[49m\n\u001b[32m   1378\u001b[39m \u001b[38;5;28;01mif\u001b[39;00m \u001b[38;5;28misinstance\u001b[39m(body, \u001b[38;5;28mstr\u001b[39m):\n\u001b[32m   1379\u001b[39m     \u001b[38;5;66;03m# RFC 2616 Section 3.7.1 says that text default has a\u001b[39;00m\n\u001b[32m   1380\u001b[39m     \u001b[38;5;66;03m# default charset of iso-8859-1.\u001b[39;00m\n\u001b[32m   1381\u001b[39m     body = _encode(body, \u001b[33m'\u001b[39m\u001b[33mbody\u001b[39m\u001b[33m'\u001b[39m)\n",
      "\u001b[36mFile \u001b[39m\u001b[32m~\\AppData\\Local\\Programs\\Python\\Python312\\Lib\\http\\client.py:1313\u001b[39m, in \u001b[36mHTTPConnection.putheader\u001b[39m\u001b[34m(self, header, *values)\u001b[39m\n\u001b[32m   1310\u001b[39m     \u001b[38;5;28;01melif\u001b[39;00m \u001b[38;5;28misinstance\u001b[39m(one_value, \u001b[38;5;28mint\u001b[39m):\n\u001b[32m   1311\u001b[39m         values[i] = \u001b[38;5;28mstr\u001b[39m(one_value).encode(\u001b[33m'\u001b[39m\u001b[33mascii\u001b[39m\u001b[33m'\u001b[39m)\n\u001b[32m-> \u001b[39m\u001b[32m1313\u001b[39m     \u001b[38;5;28;01mif\u001b[39;00m \u001b[43m_is_illegal_header_value\u001b[49m\u001b[43m(\u001b[49m\u001b[43mvalues\u001b[49m\u001b[43m[\u001b[49m\u001b[43mi\u001b[49m\u001b[43m]\u001b[49m\u001b[43m)\u001b[49m:\n\u001b[32m   1314\u001b[39m         \u001b[38;5;28;01mraise\u001b[39;00m \u001b[38;5;167;01mValueError\u001b[39;00m(\u001b[33m'\u001b[39m\u001b[33mInvalid header value \u001b[39m\u001b[38;5;132;01m%r\u001b[39;00m\u001b[33m'\u001b[39m % (values[i],))\n\u001b[32m   1316\u001b[39m value = \u001b[33mb\u001b[39m\u001b[33m'\u001b[39m\u001b[38;5;130;01m\\r\u001b[39;00m\u001b[38;5;130;01m\\n\u001b[39;00m\u001b[38;5;130;01m\\t\u001b[39;00m\u001b[33m'\u001b[39m.join(values)\n",
      "\u001b[31mTypeError\u001b[39m: expected string or bytes-like object, got 'NoneType'"
     ]
    }
   ],
   "source": [
    "import http.client\n",
    "import json\n",
    "\n",
    "conn = http.client.HTTPSConnection(\"google.serper.dev\")\n",
    "payload = json.dumps({\n",
    "  \"q\": \"Ajit Kumar Shiv Nadar University\",\n",
    "  \"gl\": \"in\"\n",
    "})\n",
    "headers = {\n",
    "  'X-API-KEY': os.environ.get(\"SERPER_API_KEY\"),\n",
    "  'Content-Type': 'application/json'\n",
    "}\n",
    "conn.request(\"POST\", \"/search\", payload, headers)\n",
    "res = conn.getresponse()\n",
    "data = res.read()\n",
    "print(data.decode(\"utf-8\"))"
   ]
  },
  {
   "cell_type": "code",
   "execution_count": null,
   "id": "e6293648-241e-48b7-8d3a-bad52f5931d4",
   "metadata": {},
   "outputs": [],
   "source": []
  },
  {
   "cell_type": "code",
   "execution_count": null,
   "id": "7b2337d7-7e55-4b92-b2d7-37ea88de92b6",
   "metadata": {},
   "outputs": [],
   "source": []
  }
 ],
 "metadata": {
  "kernelspec": {
   "display_name": "Python 3 (ipykernel)",
   "language": "python",
   "name": "python3"
  },
  "language_info": {
   "codemirror_mode": {
    "name": "ipython",
    "version": 3
   },
   "file_extension": ".py",
   "mimetype": "text/x-python",
   "name": "python",
   "nbconvert_exporter": "python",
   "pygments_lexer": "ipython3",
   "version": "3.12.5"
  }
 },
 "nbformat": 4,
 "nbformat_minor": 5
}
